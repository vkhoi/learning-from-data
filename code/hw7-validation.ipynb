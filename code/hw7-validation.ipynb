{
 "cells": [
  {
   "cell_type": "markdown",
   "metadata": {},
   "source": [
    "# Validation\n",
    "In this problem, we explore the role of the validation set in model selection. This experiment is done to answer problems 1 to 5 in homework 7 of the Learning from Data course of Caltech, which can be found here: http://work.caltech.edu/homework/hw7.pdf"
   ]
  },
  {
   "cell_type": "markdown",
   "metadata": {},
   "source": [
    "### Import all necessary libraries"
   ]
  },
  {
   "cell_type": "code",
   "execution_count": 1,
   "metadata": {
    "collapsed": true
   },
   "outputs": [],
   "source": [
    "import math\n",
    "import matplotlib.pyplot as plt\n",
    "import numpy as np\n",
    "import random\n",
    "%matplotlib inline"
   ]
  },
  {
   "cell_type": "markdown",
   "metadata": {},
   "source": [
    "### Non-linear transformation"
   ]
  },
  {
   "cell_type": "code",
   "execution_count": 21,
   "metadata": {
    "collapsed": true
   },
   "outputs": [],
   "source": [
    "# Perform the non-linear transformation on a data point.\n",
    "def transform(x, transformation=7):\n",
    "    res = np.array([1, x[0], x[1], x[0]*x[0], x[1]*x[1], x[0]*x[1], abs(x[0]-x[1]), abs(x[0]+x[1])])\n",
    "    return res[:transformation+1]"
   ]
  },
  {
   "cell_type": "markdown",
   "metadata": {},
   "source": [
    "### Linear Regression"
   ]
  },
  {
   "cell_type": "code",
   "execution_count": 58,
   "metadata": {
    "collapsed": true
   },
   "outputs": [],
   "source": [
    "# Implementation of linear regression for fitting a set of data points\n",
    "class LinearRegression:\n",
    "    # This method receives the data points and finds a weight vector that best fits these points.\n",
    "    @staticmethod\n",
    "    def fit(X, Y, k=7):\n",
    "        # Transform the input data.\n",
    "        X = np.array([transform(X[i], transformation=k) for i in range(X.shape[0])])\n",
    "        \n",
    "        # N: number of data points.\n",
    "        # d: dimension.\n",
    "        N, d = X.shape\n",
    "        \n",
    "        # Approximate Xw = Y.\n",
    "        XT = np.transpose(X)\n",
    "        w = np.dot(np.dot(np.linalg.inv(np.dot(XT, X)), XT), Y)\n",
    "\n",
    "        return w"
   ]
  },
  {
   "cell_type": "markdown",
   "metadata": {},
   "source": [
    "### Classification error"
   ]
  },
  {
   "cell_type": "code",
   "execution_count": 76,
   "metadata": {
    "collapsed": true
   },
   "outputs": [],
   "source": [
    "def computeClassificationError(W, X, Y, transformation=7):\n",
    "    correct = 0\n",
    "    for x, y in zip(X, Y):\n",
    "        x = transform(x, transformation)\n",
    "        y_hat = np.sign(np.dot(W, x))\n",
    "        if y_hat == y:\n",
    "            correct += 1\n",
    "    return 1 - correct / X.shape[0]"
   ]
  },
  {
   "cell_type": "markdown",
   "metadata": {},
   "source": [
    "### Input data"
   ]
  },
  {
   "cell_type": "code",
   "execution_count": 4,
   "metadata": {
    "collapsed": true
   },
   "outputs": [],
   "source": [
    "# Read data from file.\n",
    "def readData(filename):\n",
    "    with open(filename) as f:\n",
    "        data = f.read().replace('\\n', ' ').replace('\\t', ' ').split(' ')\n",
    "    data = [float(data[_]) for _ in range(len(data)) if len(data[_]) > 0]\n",
    "    X = np.array([float(data[_]) for _ in range(len(data)) if _ % 3 != 2])\n",
    "    X = np.reshape(X, (X.shape[0] // 2, 2))\n",
    "    Y = np.array([float(data[_]) for _ in range(len(data)) if _ % 3 == 2])\n",
    "    return [X, Y]"
   ]
  },
  {
   "cell_type": "markdown",
   "metadata": {},
   "source": [
    "Create the training and test set."
   ]
  },
  {
   "cell_type": "code",
   "execution_count": 77,
   "metadata": {
    "collapsed": true
   },
   "outputs": [],
   "source": [
    "train_data = '../data/hw6-in.dta.txt'\n",
    "test_data = '../data/hw6-out.dta.txt'\n",
    "\n",
    "[X_train, Y_train] = readData(train_data)\n",
    "[X_test, Y_test] = readData(test_data)"
   ]
  },
  {
   "cell_type": "markdown",
   "metadata": {},
   "source": [
    "### Main experiment\n",
    "#### 1. Training=25 examples, Validation=10 examples\n",
    "Create the validation set that takes up the last 10 examples in the training set."
   ]
  },
  {
   "cell_type": "code",
   "execution_count": 78,
   "metadata": {
    "collapsed": true
   },
   "outputs": [],
   "source": [
    "X_val = X_train[25:]\n",
    "Y_val = Y_train[25:]\n",
    "X_train = X_train[0:25]\n",
    "Y_train = Y_train[0:25]"
   ]
  },
  {
   "cell_type": "markdown",
   "metadata": {},
   "source": [
    "Fit the training set with 5 different models. Each model is different in the number of dimensions that it uses from the non-linear transformation."
   ]
  },
  {
   "cell_type": "code",
   "execution_count": 79,
   "metadata": {
    "collapsed": false
   },
   "outputs": [],
   "source": [
    "W = [LinearRegression.fit(X_train, Y_train, k=i) for i in range(3, 8)]"
   ]
  },
  {
   "cell_type": "markdown",
   "metadata": {},
   "source": [
    "Compute the classification error of each model on the validation set."
   ]
  },
  {
   "cell_type": "code",
   "execution_count": 80,
   "metadata": {
    "collapsed": false
   },
   "outputs": [
    {
     "name": "stdout",
     "output_type": "stream",
     "text": [
      "[ 0.3  0.5  0.2  0.   0.1]\n"
     ]
    }
   ],
   "source": [
    "E_val = np.zeros(5)\n",
    "for i in range(3, 8):\n",
    "    E_val[i-3] = computeClassificationError(W[i-3], X_val, Y_val, transformation=i)\n",
    "print(E_val)"
   ]
  },
  {
   "cell_type": "markdown",
   "metadata": {},
   "source": [
    "So the model that uses 6 dimensions in the non-linear transformation produces the smallest classification error on the validation set.\n",
    "\n",
    "Next, we compute the classification error of each model on the test set."
   ]
  },
  {
   "cell_type": "code",
   "execution_count": 81,
   "metadata": {
    "collapsed": false
   },
   "outputs": [
    {
     "name": "stdout",
     "output_type": "stream",
     "text": [
      "[ 0.42   0.416  0.188  0.084  0.072]\n"
     ]
    }
   ],
   "source": [
    "E_out = np.zeros(5)\n",
    "for i in range(3, 8):\n",
    "    E_out[i-3] = computeClassificationError(W[i-3], X_test, Y_test, transformation=i)\n",
    "print(E_out)"
   ]
  },
  {
   "cell_type": "markdown",
   "metadata": {},
   "source": [
    "The model with $k = 7$ produces the smallest classification error on the test set."
   ]
  },
  {
   "cell_type": "markdown",
   "metadata": {},
   "source": [
    "#### 2. Training=10 examples, Validation=25 examples\n",
    "Create the validation set that takes up the first 25 examples in the training set."
   ]
  },
  {
   "cell_type": "code",
   "execution_count": 82,
   "metadata": {
    "collapsed": true
   },
   "outputs": [],
   "source": [
    "# Swap the training set and the validationset\n",
    "tmp = X_val\n",
    "X_val = X_train\n",
    "X_train = tmp\n",
    "\n",
    "tmp = Y_val\n",
    "Y_val = Y_train\n",
    "Y_train = tmp"
   ]
  },
  {
   "cell_type": "markdown",
   "metadata": {},
   "source": [
    "The experiment is performed in the same way with the last one."
   ]
  },
  {
   "cell_type": "code",
   "execution_count": 83,
   "metadata": {
    "collapsed": false
   },
   "outputs": [
    {
     "name": "stdout",
     "output_type": "stream",
     "text": [
      "E_val =  [ 0.28  0.36  0.2   0.08  0.12]\n",
      "E_out =  [ 0.396  0.388  0.284  0.192  0.196]\n"
     ]
    }
   ],
   "source": [
    "W = [LinearRegression.fit(X_train, Y_train, k=i) for i in range(3, 8)]\n",
    "\n",
    "E_val = np.zeros(5)\n",
    "for i in range(3, 8):\n",
    "    E_val[i-3] = computeClassificationError(W[i-3], X_val, Y_val, transformation=i)\n",
    "print('E_val = ', E_val)\n",
    "\n",
    "E_out = np.zeros(5)\n",
    "for i in range(3, 8):\n",
    "    E_out[i-3] = computeClassificationError(W[i-3], X_test, Y_test, transformation=i)\n",
    "print('E_out = ', E_out)"
   ]
  },
  {
   "cell_type": "markdown",
   "metadata": {},
   "source": [
    "Model $k = 6$ produces the smallest classification error in both the validation and the test set."
   ]
  }
 ],
 "metadata": {
  "kernelspec": {
   "display_name": "Python 3",
   "language": "python",
   "name": "python3"
  },
  "language_info": {
   "codemirror_mode": {
    "name": "ipython",
    "version": 3
   },
   "file_extension": ".py",
   "mimetype": "text/x-python",
   "name": "python",
   "nbconvert_exporter": "python",
   "pygments_lexer": "ipython3",
   "version": "3.5.2"
  }
 },
 "nbformat": 4,
 "nbformat_minor": 0
}
