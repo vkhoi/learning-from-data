{
 "cells": [
  {
   "cell_type": "markdown",
   "metadata": {},
   "source": [
    "# Bias and Variance\n",
    "This code is implemented to to answer questions 4-7 in homework 4 of the Learning From Data course at Caltech: http://work.caltech.edu/homework/hw4.pdf\n",
    "\n",
    "In this problem, we shall take a look at bias and variance trade-off in a learning model. Even though we can only calculate bias and variance in the case we have the target function at our disposal, the intuition of bias and variance can help us design our learning model more efficiently.\n",
    "\n",
    "## Problem statement\n",
    "Consider the case where the target function $f: [-1, 1] \\to \\mathbb{R}$ is given by $f(x) = \\sin{(\\pi x)}$ and the input probability distribution is uniform on $[-1, 1]$. Assume that the training set has only two examples (picked independently), and that the learning algorithm produces the hypothesis that minimizes the mean squared error on the examples.\n",
    "\n",
    "### Question 4\n",
    "Assume the learning model consists of all hypotheses of the form $h(x) = ax$. What is the expected value $\\bar{g}(x)$?"
   ]
  },
  {
   "cell_type": "code",
   "execution_count": 1,
   "metadata": {
    "collapsed": true
   },
   "outputs": [],
   "source": [
    "import math\n",
    "import numpy as np\n",
    "import matplotlib.pyplot as plt\n",
    "%matplotlib inline\n",
    "import random"
   ]
  },
  {
   "cell_type": "code",
   "execution_count": 2,
   "metadata": {
    "collapsed": true
   },
   "outputs": [],
   "source": [
    "# The target function sin(pi*x).\n",
    "def targetFunction(x):\n",
    "    return math.sin(math.pi * x)"
   ]
  },
  {
   "cell_type": "code",
   "execution_count": 3,
   "metadata": {
    "collapsed": true
   },
   "outputs": [],
   "source": [
    "# Implementation of linear regression for fitting a set of data points.\n",
    "class LinearRegression:\n",
    "    # This method receives the data points and finds a weight vector that best fits these points.\n",
    "    @staticmethod\n",
    "    def fit(X, Y):\n",
    "        N = len(X) # Number of data points.\n",
    "        d = len(X[0]) # Size of dimension.\n",
    "        \n",
    "        # Initialize matrix A to store the data points.\n",
    "        A = np.zeros((N, d))\n",
    "        # Initialize column vector b which stores the y values.\n",
    "        b = np.zeros((N, 1))\n",
    "        for i in range(N):\n",
    "            A[i] = np.array(X[i])\n",
    "            b[i] = Y[i]\n",
    "            \n",
    "        # Approximate Ax = b.\n",
    "        AT = np.transpose(A)\n",
    "        w = np.dot(np.dot(np.linalg.inv(np.dot(AT, A)), AT), b)\n",
    "\n",
    "        return w"
   ]
  },
  {
   "cell_type": "code",
   "execution_count": 4,
   "metadata": {
    "collapsed": false
   },
   "outputs": [],
   "source": [
    "# Perform the experiment that is described in the problem statement.\n",
    "def experiment(isPlot=False):\n",
    "    N = 2\n",
    "    # Generate 2 data points randomly.\n",
    "    X = [random.uniform(-1, 1) for _ in range(N)]\n",
    "    Y = [targetFunction(x) for x in X]\n",
    "    \n",
    "    # Optimal b for hypothesis: h(x) = b.\n",
    "    W1 = LinearRegression.fit([[1], [1]], Y)\n",
    "    \n",
    "    # Optimal a for hypothesis: h(x) = ax.\n",
    "    #opt_a2 = (X[0]*Y[0] + X[1]*Y[1]) / (X[0]*X[0] + X[1]*X[1])\n",
    "    W2 = LinearRegression.fit([[X[0]], [X[1]]], Y)\n",
    "    \n",
    "    # Optimal a and b for hypothesis: h(x) = ax + b.\n",
    "    W3 = LinearRegression.fit([[1, X[0]], [1, X[1]]], Y)\n",
    "    \n",
    "    # Optimal a for hypothesis: h(x) = ax^2.\n",
    "    W4 = LinearRegression.fit([[X[0]*X[0]], [X[1]*X[1]]], Y)\n",
    "    \n",
    "    # Optimal a and b for hypothesis: h(x) = ax^2 + b.\n",
    "    W5 = LinearRegression.fit([[1, X[0]*X[0]], [1, X[1]*X[1]]], Y)\n",
    "\n",
    "    if isPlot:\n",
    "        plt.xlim(-1, 1)\n",
    "        plt.ylim(-1.5, 1.5)\n",
    "        \n",
    "        # Plot the target function.\n",
    "        targetFunctionX = np.linspace(-1, 1, 100)\n",
    "        targetFunctionY = [targetFunction(x) for x in targetFunctionX]\n",
    "        plt.plot(targetFunctionX, targetFunctionY)\n",
    "\n",
    "        # Plot N data points.\n",
    "        plt.scatter(X, Y, color='r')\n",
    "\n",
    "        # Plot the optimal line for hypothesis: y = ax.\n",
    "        line_x = np.linspace(-1, 1, 100)\n",
    "        line_y = [W2[0]*x for x in line_x]\n",
    "        plt.plot(line_x, line_y)\n",
    "    \n",
    "    # Return the optimal weights for 5 hypotheses.\n",
    "    return [W1, W2, W3, W4, W5]"
   ]
  },
  {
   "cell_type": "code",
   "execution_count": 123,
   "metadata": {
    "collapsed": false
   },
   "outputs": [
    {
     "data": {
      "text/plain": [
       "[array([[ 0.14431903]]), array([[ 1.12836324]]), array([[ 0.24264806],\n",
       "        [ 1.1709387 ]]), array([[-0.0976364]]), array([[ 3.48105353],\n",
       "        [-6.97198719]])]"
      ]
     },
     "execution_count": 123,
     "metadata": {},
     "output_type": "execute_result"
    },
    {
     "data": {
      "image/png": "[encoded data removed]",
      "text/plain": [
       "<matplotlib.figure.Figure at 0x114b1ea90>"
      ]
     },
     "metadata": {},
     "output_type": "display_data"
    }
   ],
   "source": [
    "# Example: plot the target function along with a optimal hypothesis h(x) = a(x).\n",
    "experiment(True)"
   ]
  },
  {
   "cell_type": "code",
   "execution_count": 5,
   "metadata": {
    "collapsed": false
   },
   "outputs": [
    {
     "name": "stdout",
     "output_type": "stream",
     "text": [
      "Question 4: g_bar(x) =  1.42783163536 x\n",
      "Answer: [d]\n"
     ]
    }
   ],
   "source": [
    "# Calculate the average coefficient a in g(x) = ax, or g_bar.\n",
    "N_experiments = 10000\n",
    "A = [experiment()[1][0][0] for _ in range(N_experiments)]\n",
    "avg_a = sum(A) / len(A)\n",
    "print('Question 4: g_bar(x) = ', avg_a, 'x')\n",
    "print('Answer: [d]')"
   ]
  },
  {
   "cell_type": "markdown",
   "metadata": {},
   "source": [
    "### Question 5 and 6\n",
    "What is the closest value to the bias and variance?"
   ]
  },
  {
   "cell_type": "code",
   "execution_count": 28,
   "metadata": {
    "collapsed": false
   },
   "outputs": [
    {
     "name": "stdout",
     "output_type": "stream",
     "text": [
      "Question 5: bias =  [0.49962730841954917, 0.26415868990379227, 0.2168263778501599, 0.50164673898254974, 7.1177952136161249]\n",
      "Answer: [b]\n"
     ]
    }
   ],
   "source": [
    "# Compute bias, the squared difference between g_bar and the target function.\n",
    "# Perform the experiment N times to get N optimal weights for 5 hypotheses.\n",
    "# These weights are used to find the g_bar value of each hypothesis on the data points.\n",
    "N = 1000\n",
    "W = [experiment() for _ in range(N)]\n",
    "bias = [0, 0, 0, 0, 0]\n",
    "\n",
    "# Compute the average weight of each hypothesis.\n",
    "W_avg = [0, 0, [0, 0], 0, [0, 0]]\n",
    "for w in W:\n",
    "    W_avg[0] += w[0][0][0] / N\n",
    "    W_avg[1] += w[1][0][0] / N\n",
    "    W_avg[2][0] += w[2][0][0] / N\n",
    "    W_avg[2][1] += w[2][1][0] / N\n",
    "    W_avg[3] += w[3][0][0] / N\n",
    "    W_avg[4][0] += w[4][0][0] / N\n",
    "    W_avg[4][1] += w[4][1][0] / N\n",
    "\n",
    "# For each data point in our input space, calculate the squared difference between the average hypotheses\n",
    "# with the target function. The squared differences are aggregated to find the bias of all 5 hypotheses. \n",
    "for x in np.linspace(-1, 1, N):\n",
    "    V = [0, 0, 0, 0, 0]\n",
    "    V[0] = W_avg[0]\n",
    "    V[1] = W_avg[1]*x\n",
    "    V[2] = W_avg[2][0] + W_avg[2][1]*x\n",
    "    V[3] = W_avg[3]*x*x\n",
    "    V[4] = W_avg[4][0] + W_avg[4][1]*x*x\n",
    "    for i in range(5):\n",
    "        bias[i] += (V[i] - targetFunction(x))**2\n",
    "\n",
    "# Take the average, since we aggregate the biases all N data points\n",
    "bias = [b/N for b in bias]\n",
    "\n",
    "print('Question 5: bias = ', bias)\n",
    "print('Answer: [b]')"
   ]
  },
  {
   "cell_type": "code",
   "execution_count": 31,
   "metadata": {
    "collapsed": false
   },
   "outputs": [
    {
     "name": "stdout",
     "output_type": "stream",
     "text": [
      "Question 6: variance =  [0.24354109602715235, 0.23219591761625655, 1.846833561684569, 23.394515123372877, 2141.767598171286]\n",
      "Answer: [a]\n"
     ]
    }
   ],
   "source": [
    "# Compute variance, the squared difference between g_bar and each g we find in each experiment.\n",
    "variance = [0, 0, 0, 0, 0]\n",
    "\n",
    "# For each data point in our input space, calculate the average squared differences between the average hypotheses\n",
    "# and every optimal hypothesis in N experiments.\n",
    "for x in np.linspace(-1, 1, N):\n",
    "    # V holds results of the average hypotheses on point x.\n",
    "    V = [0, 0, 0, 0, 0]\n",
    "    V[0] = W_avg[0]\n",
    "    V[1] = W_avg[1]*x\n",
    "    V[2] = W_avg[2][0] + W_avg[2][1]*x\n",
    "    V[3] = W_avg[3]*x*x\n",
    "    V[4] = W_avg[4][0] + W_avg[4][1]*x*x\n",
    "    \n",
    "    # Iterate through every optimal hypothesis in each of our N experiments.\n",
    "    for w in W:\n",
    "        variance[0] += (V[0] - w[0][0][0])**2\n",
    "        variance[1] += (V[1] - w[1][0][0]*x)**2\n",
    "        variance[2] += (V[2] - (w[2][0][0] + w[2][1][0]*x))**2\n",
    "        variance[3] += (V[3] - w[3][0][0]*x*x)**2\n",
    "        variance[4] += (V[4] - (w[4][0][0] + w[4][1][0]*x*x))**2\n",
    "\n",
    "variance = [var/N/N for var in variance]\n",
    "print('Question 6: variance = ', variance)\n",
    "print('Answer: [a]')"
   ]
  },
  {
   "cell_type": "markdown",
   "metadata": {
    "collapsed": true
   },
   "source": [
    "### Quesiton 7\n",
    "Which of the following learning models has the least expected value out-of-sample error?\n",
    "* $h(x) = b$\n",
    "* $h(x) = ax$\n",
    "* $h(x) = ax + b$\n",
    "* $h(x) = ax^2$\n",
    "* $h(x) = ax^2 + b$"
   ]
  },
  {
   "cell_type": "code",
   "execution_count": 33,
   "metadata": {
    "collapsed": false
   },
   "outputs": [
    {
     "name": "stdout",
     "output_type": "stream",
     "text": [
      "Question 7: E_out =  [0.74316840444670151, 0.49635460752004879, 2.063659939534729, 23.896161862355427, 2148.8853933849023]\n",
      "Answer: [b]\n"
     ]
    }
   ],
   "source": [
    "# The out-of-sample error of each hypothesis is the sum of its bias and variance\n",
    "E_out = [bias[i] + variance[i] for i in range(5)]\n",
    "print('Question 7: E_out = ', E_out)\n",
    "print('Answer: [b]')"
   ]
  },
  {
   "cell_type": "code",
   "execution_count": null,
   "metadata": {
    "collapsed": true
   },
   "outputs": [],
   "source": []
  }
 ],
 "metadata": {
  "kernelspec": {
   "display_name": "Python 3",
   "language": "python",
   "name": "python3"
  },
  "language_info": {
   "codemirror_mode": {
    "name": "ipython",
    "version": 3
   },
   "file_extension": ".py",
   "mimetype": "text/x-python",
   "name": "python",
   "nbconvert_exporter": "python",
   "pygments_lexer": "ipython3",
   "version": "3.5.2"
  }
 },
 "nbformat": 4,
 "nbformat_minor": 0
}
