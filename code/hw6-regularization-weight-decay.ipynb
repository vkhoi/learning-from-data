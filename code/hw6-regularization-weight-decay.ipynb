{
 "cells": [
  {
   "cell_type": "markdown",
   "metadata": {},
   "source": [
    "# Regularization with Weight Decay\n",
    "In this problem, we shall explore the effect of regularization with weight decay on linear regression. The train and test data are provided at \"../data/hw6-in.dta.txt\" and \"../data/hw6-out.dta.txt\" respectively. We are going to apply linear regression with a non-linear transformation for classification. The non-linear transformation is as follows:\n",
    "\n",
    "$\\phi(x_1, x_2) = (1, x_1, x_2, x_1^2, x_2^2, x_1x_2, |x_1 - x_2|, |x_1 + x_2|)$"
   ]
  },
  {
   "cell_type": "code",
   "execution_count": 1,
   "metadata": {
    "collapsed": true
   },
   "outputs": [],
   "source": [
    "import math\n",
    "import matplotlib.pyplot as plt\n",
    "import numpy as np\n",
    "import random\n",
    "%matplotlib inline"
   ]
  },
  {
   "cell_type": "code",
   "execution_count": 3,
   "metadata": {
    "collapsed": false
   },
   "outputs": [],
   "source": [
    "# Perform the non-linear transformation on a data point.\n",
    "def transform(x):\n",
    "    return np.array([1, x[0], x[1], x[0]*x[0], x[1]*x[1], x[0]*x[1], abs(x[0]-x[1]), abs(x[0]+x[1])])"
   ]
  },
  {
   "cell_type": "code",
   "execution_count": 91,
   "metadata": {
    "collapsed": true
   },
   "outputs": [],
   "source": [
    "# Implementation of linear regression for fitting a set of data points\n",
    "class LinearRegression:\n",
    "    # This method receives the data points and finds a weight vector that best fits these points.\n",
    "    @staticmethod\n",
    "    def fit(X, Y, regularized=0):\n",
    "        # Transform the input data.\n",
    "        X = np.array([transform(X[i]) for i in range(X.shape[0])])\n",
    "        \n",
    "        # N: number of data points.\n",
    "        # d: dimension.\n",
    "        N, d = X.shape\n",
    "        \n",
    "        # Approximate Xw = Y.\n",
    "        XT = np.transpose(X)\n",
    "        w = np.dot(np.dot(np.linalg.inv(np.dot(XT, X) + regularized*np.eye(d)), XT), Y)\n",
    "\n",
    "        return w"
   ]
  },
  {
   "cell_type": "code",
   "execution_count": 92,
   "metadata": {
    "collapsed": true
   },
   "outputs": [],
   "source": [
    "# Read data from file.\n",
    "def readData(filename):\n",
    "    with open(filename) as f:\n",
    "        data = f.read().replace('\\n', ' ').replace('\\t', ' ').split(' ')\n",
    "    data = [float(data[_]) for _ in range(len(data)) if len(data[_]) > 0]\n",
    "    X = np.array([float(data[_]) for _ in range(len(data)) if _ % 3 != 2])\n",
    "    X = np.reshape(X, (X.shape[0] // 2, 2))\n",
    "    Y = np.array([float(data[_]) for _ in range(len(data)) if _ % 3 == 2])\n",
    "    return [X, Y]"
   ]
  },
  {
   "cell_type": "code",
   "execution_count": 93,
   "metadata": {
    "collapsed": true
   },
   "outputs": [],
   "source": [
    "# Evaluate the classification error using the computed weight vector.\n",
    "def evaluate(X, Y, w):\n",
    "    # Transform the input data.\n",
    "    X = np.array([transform(X[i]) for i in range(X.shape[0])])\n",
    "    cnt = 0\n",
    "    for i in range(X.shape[0]):\n",
    "        res = np.sign(np.dot(X[i], w))\n",
    "        if res != Y[i]:\n",
    "            cnt += 1\n",
    "    return cnt / X.shape[0]"
   ]
  },
  {
   "cell_type": "code",
   "execution_count": 115,
   "metadata": {
    "collapsed": false
   },
   "outputs": [
    {
     "name": "stdout",
     "output_type": "stream",
     "text": [
      "Lambda =  0\n",
      "In-sample error:  0.02857142857142857\n",
      "Out-of-sample error:  0.084\n"
     ]
    }
   ],
   "source": [
    "train_data = '../data/hw6-in.dta.txt'\n",
    "test_data = '../data/hw6-out.dta.txt'\n",
    "\n",
    "[X_train, Y_train] = readData(train_data)\n",
    "[X_test, Y_test] = readData(test_data)\n",
    "\n",
    "# Fit the data, using no regularization.\n",
    "w = LinearRegression.fit(X_train, Y_train)\n",
    "\n",
    "# Evaluate the classification error in the case of using no regularization.\n",
    "E_in = evaluate(X_train, Y_train, w)\n",
    "E_out = evaluate(X_test, Y_test, w)\n",
    "\n",
    "print('Lambda = ', 0)\n",
    "print('In-sample error: ', E_in)\n",
    "print('Out-of-sample error: ', E_out)"
   ]
  },
  {
   "cell_type": "code",
   "execution_count": 118,
   "metadata": {
    "collapsed": false
   },
   "outputs": [
    {
     "name": "stdout",
     "output_type": "stream",
     "text": [
      "Lambda =  0.001\n",
      "In-sample error:  0.02857142857142857\n",
      "Out-of-sample error:  0.08\n"
     ]
    }
   ],
   "source": [
    "# Fit the data, using regularization parameter lambda = 10^-3\n",
    "w = LinearRegression.fit(X_train, Y_train, regularized=1e-3)\n",
    "\n",
    "# Evaluate the classification error in the case of using regularization parameter lambda = 10^-3.\n",
    "E_in = evaluate(X_train, Y_train, w)\n",
    "E_out = evaluate(X_test, Y_test, w)\n",
    "\n",
    "print('Lambda = ', 1e-3)\n",
    "print('In-sample error: ', E_in)\n",
    "print('Out-of-sample error: ', E_out)"
   ]
  },
  {
   "cell_type": "code",
   "execution_count": 117,
   "metadata": {
    "collapsed": false
   },
   "outputs": [
    {
     "name": "stdout",
     "output_type": "stream",
     "text": [
      "Lambda =  1000.0\n",
      "In-sample error:  0.37142857142857144\n",
      "Out-of-sample error:  0.436\n"
     ]
    }
   ],
   "source": [
    "# Fit the data, using regularization parameter lambda = 10^-3\n",
    "w = LinearRegression.fit(X_train, Y_train, regularized=1e3)\n",
    "\n",
    "# Evaluate the classification error in the case of using regularization parameter lambda = 10^-3.\n",
    "E_in = evaluate(X_train, Y_train, w)\n",
    "E_out = evaluate(X_test, Y_test, w)\n",
    "\n",
    "print('Lambda = ', 1e3)\n",
    "print('In-sample error: ', E_in)\n",
    "print('Out-of-sample error: ', E_out)"
   ]
  },
  {
   "cell_type": "code",
   "execution_count": 142,
   "metadata": {
    "collapsed": false
   },
   "outputs": [
    {
     "name": "stdout",
     "output_type": "stream",
     "text": [
      "2 0.228\n",
      "1 0.124\n",
      "0 0.092\n",
      "-1 0.056\n",
      "-2 0.084\n",
      "Best k =  -1\n",
      "Best E_out =  0.056\n"
     ]
    }
   ],
   "source": [
    "# Find best regularization parameter lambda among the following choices.\n",
    "k_selection = [2, 1, 0, -1, -2]\n",
    "chosen = -1\n",
    "best_E_out = -1\n",
    "for i in range(len(k_selection)):\n",
    "    reg = 10**k_selection[i]\n",
    "    w = LinearRegression.fit(X_train, Y_train, regularized=reg)\n",
    "    E_out = evaluate(X_test, Y_test, w)\n",
    "    print(k_selection[i], E_out)\n",
    "    if chosen == -1 or E_out < best_E_out:\n",
    "        chosen = i\n",
    "        best_E_out = E_out\n",
    "        \n",
    "print('Best k = ', k_selection[chosen])\n",
    "print('Best E_out = ', best_E_out)"
   ]
  }
 ],
 "metadata": {
  "kernelspec": {
   "display_name": "Python 3",
   "language": "python",
   "name": "python3"
  },
  "language_info": {
   "codemirror_mode": {
    "name": "ipython",
    "version": 3
   },
   "file_extension": ".py",
   "mimetype": "text/x-python",
   "name": "python",
   "nbconvert_exporter": "python",
   "pygments_lexer": "ipython3",
   "version": "3.5.2"
  }
 },
 "nbformat": 4,
 "nbformat_minor": 0
}
