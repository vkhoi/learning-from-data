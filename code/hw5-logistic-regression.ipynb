{
 "cells": [
  {
   "cell_type": "markdown",
   "metadata": {},
   "source": [
    "# Logistic Regression\n",
    "This code is implemented to answer question 8 & 9 in homework 5 of the Learning from Data course at Caltech: http://work.caltech.edu/homework/hw5.pdf\n",
    "\n",
    "In this problem, we learn how to use logistic regression for classification.\n",
    "\n",
    "# Problem statement\n",
    "In this problem, you will create your own target function $f$ (probability in this case) and dataset $\\mathcal{D}$ to see how logistic regression works. For simplicity, we will take $f$ to be a $0$/$1$ probability so $y$ is a deterministic function of x.\n",
    "\n",
    "Take $d = 2$ so you can visualize the problem, and let $\\mathcal{X} = [-1, 1]\\times[-1, 1]$ with uniform probability of picking each $x \\in \\mathcal{X}$. Choose a line in the plane as the boundary between $f(x) = 1$ (where $y$ has to be $+1$) and $f(x) = 0$ (where $y$ has to be $-1$) by taking two random, uniformly distributed points from $\\mathcal{X}$ and taking the line passing through them as the boundary between $y = \\pm 1$. Pick $N = 100$ training points at random from $\\mathcal{X}$, and evaluate the outputs $y_n$ for each of these points $\\mathbf{x}_n$.\n",
    "\n",
    "Run logistic regression with stochastic gradient descent to find the best parameters for our model, and estimate $E_{out}$ (the cross entropy error) by generating a sufficiently large, separate set of points to evaluate the error. Repeat the experiment for $100$ runs with different targets and take the average. Initialize the weight vector of logistic regression to all zeros in each run. Stop the algorithm when $\\| \\mathbf{w}^{(t-1)} - \\mathbf{w}^{(t)} \\| < 0.01 $, where $\\mathbf{w}^{(t)}$ denotes the weight vector at the end of epoch $t$. An epoch is a full pass through $N$ data points (use a random permutation of $1, 2, ..., N$ to present the data points to the algorithm within each epoch, and use different permutations for different epochs). Use a learning rate of $0.01$."
   ]
  },
  {
   "cell_type": "code",
   "execution_count": 3,
   "metadata": {
    "collapsed": true
   },
   "outputs": [],
   "source": [
    "import math\n",
    "import matplotlib.pyplot as plt\n",
    "import numpy as np\n",
    "import random\n",
    "%matplotlib inline"
   ]
  },
  {
   "cell_type": "code",
   "execution_count": 4,
   "metadata": {
    "collapsed": true
   },
   "outputs": [],
   "source": [
    "# Calculate sigmoid function.\n",
    "def sigmoid(s):\n",
    "    return math.e**s / (1 + math.e**s)"
   ]
  },
  {
   "cell_type": "code",
   "execution_count": 5,
   "metadata": {
    "collapsed": true
   },
   "outputs": [],
   "source": [
    "# class Point 2D\n",
    "class Point:\n",
    "    def __init__(self, x, y):\n",
    "        self.x = x\n",
    "        self.y = y\n",
    "        \n",
    "    def asVector(self):\n",
    "        return np.array([self.x, self.y])\n",
    "    \n",
    "    @staticmethod\n",
    "    def random():\n",
    "        return Point(random.uniform(-1, 1), random.uniform(-1, 1))"
   ]
  },
  {
   "cell_type": "code",
   "execution_count": 6,
   "metadata": {
    "collapsed": true
   },
   "outputs": [],
   "source": [
    "# class Line in the 2D plane\n",
    "class Line:\n",
    "    def __init__(self, a, b, c):\n",
    "        # ax + by + c = 0\n",
    "        self.a = a\n",
    "        self.b = b\n",
    "        self.c = c\n",
    "    \n",
    "    # return the point on this line with horizontal coordinate x\n",
    "    def getPointAtX(self, x):\n",
    "        if self.b == 0:\n",
    "            return Point(x, -1)\n",
    "        return Point(x, (-self.a*x - self.c) / self.b)\n",
    "    \n",
    "    # evaluate whether a given point is on the upper or lower area of this line\n",
    "    def evaluatePoint(self, point):\n",
    "        return np.sign(self.a*point.x + self.b*point.y + self.c)\n",
    "    \n",
    "    # generate a random line equation (equivalent to generating a random target function in our example)\n",
    "    @staticmethod\n",
    "    def random():\n",
    "        # generate two random points\n",
    "        p1 = Point.random()\n",
    "        p2 = Point.random()\n",
    "        \n",
    "        # compute the perpendicular vector of this line\n",
    "        u = [-(p2.y - p1.y), p2.x - p1.x]\n",
    "        return Line(u[0], u[1], -u[0]*p1.x - u[1]*p1.y)"
   ]
  },
  {
   "cell_type": "code",
   "execution_count": 123,
   "metadata": {
    "collapsed": false
   },
   "outputs": [],
   "source": [
    "class LogisticRegression:\n",
    "    @staticmethod\n",
    "    def train(X, Y, learning_rate=0.01):\n",
    "        # Get the number of data points and the dimensionality of the input space.\n",
    "        N, d = X.shape\n",
    "        # Add the bias term to the vector of each data point.\n",
    "        x = np.array([np.insert(X[i], 0, 1) for i in range(N)])\n",
    "        \n",
    "        # Initial weights.\n",
    "        W = np.zeros(d + 1)\n",
    "        \n",
    "        # Weight in the previous epoch. This is to compare the squared difference between the weight vectors\n",
    "        # of 2 consecutive epochs and determine whether to terminate the algorithm.\n",
    "        prev_W = np.zeros(d + 1)\n",
    "        \n",
    "        n_iters = 0\n",
    "        # Repeat until convergence.\n",
    "        while True:\n",
    "            n_iters += 1\n",
    "            # Randomly generate a permutation of N numbers [0, 1, ..., N-1].\n",
    "            # Each number is used as an index to pick a random data point from the dataset and put into our\n",
    "            # stochastic gradient descent.\n",
    "            P = np.random.permutation(N)\n",
    "            \n",
    "            for idx in P:\n",
    "                # Compute the partial derivative of the error function with respect to the weight vector at\n",
    "                # the current values of W.\n",
    "                dE = -Y[idx] * x[idx] * sigmoid(-Y[idx] * np.dot(W, x[idx]))\n",
    "                \n",
    "                # Move down the hill.\n",
    "                W -= learning_rate * dE\n",
    "                \n",
    "            # Compute the cross entropy error for the training dataset.\n",
    "            # error = LogisticRegression.getError(W, x, Y)\n",
    "            # print(error)\n",
    "\n",
    "            # Compute the squared difference between the previous and the current weight vector.\n",
    "            diff = np.dot(prev_W - W, prev_W - W) ** 0.5\n",
    "            # print('diff = ', diff)\n",
    "\n",
    "            # Terminate if difference is less than 0.01\n",
    "            if diff < 0.01:\n",
    "                break\n",
    "            prev_W = np.copy(W)\n",
    "        \n",
    "        return [W, n_iters]\n",
    "    \n",
    "    def getError(W, x, Y):\n",
    "        res = 0\n",
    "        for i in range(x.shape[0]):\n",
    "            res += math.log(1 / sigmoid(Y[i] * np.dot(W, x[i])))\n",
    "        return res"
   ]
  },
  {
   "cell_type": "code",
   "execution_count": 124,
   "metadata": {
    "collapsed": false
   },
   "outputs": [],
   "source": [
    "# Perform experiment with N data points.\n",
    "def experiment(N, plot=False):\n",
    "    # N is the number of data points to generate.\n",
    "\n",
    "    # Initialize a random line to separate the plane into 2 parts: one for blue points, one for red points.\n",
    "    L = Line.random()\n",
    "\n",
    "    # Initialize N random points.\n",
    "    # X0 and Y0 store the X and Y coordinates of points with label 1.\n",
    "    # X1 and Y1 store the X and Y coordinates of points with label -1.\n",
    "    training_examples = [Point.random() for _ in range(N)]\n",
    "    X0 = [training_examples[_].x for _ in range(N) if L.evaluatePoint(training_examples[_]) == 1]\n",
    "    Y0 = [training_examples[_].y for _ in range(N) if L.evaluatePoint(training_examples[_]) == 1]\n",
    "    X1 = [training_examples[_].x for _ in range(N) if L.evaluatePoint(training_examples[_]) == -1]\n",
    "    Y1 = [training_examples[_].y for _ in range(N) if L.evaluatePoint(training_examples[_]) == -1]\n",
    "\n",
    "    # Create data to put into logistic regression class for learning.\n",
    "    X = np.array([training_examples[_].asVector() for _ in range(N)])\n",
    "    Y = np.array([L.evaluatePoint(training_examples[_]) for _ in range(N)])\n",
    "\n",
    "    # Find the best parameters.\n",
    "    [W, n_iters] = LogisticRegression.train(X, Y)\n",
    "    \n",
    "    # Classify using our computed parameters.\n",
    "    X2 = [training_examples[_].x for _ in range(N) if \\\n",
    "          sigmoid(np.dot(W, np.insert(training_examples[_].asVector(), 0, 1))) >= 0.5]\n",
    "    Y2 = [training_examples[_].y for _ in range(N) if \\\n",
    "          sigmoid(np.dot(W, np.insert(training_examples[_].asVector(), 0, 1))) >= 0.5]\n",
    "    X3 = [training_examples[_].x for _ in range(N) if \\\n",
    "          sigmoid(np.dot(W, np.insert(training_examples[_].asVector(), 0, 1))) < 0.5]\n",
    "    Y3 = [training_examples[_].y for _ in range(N) if \\\n",
    "          sigmoid(np.dot(W, np.insert(training_examples[_].asVector(), 0, 1))) < 0.5]\n",
    "\n",
    "    if plot:\n",
    "        fig = plt.figure(figsize=(16, 5))\n",
    "        ax1 = fig.add_subplot(1, 2, 1)\n",
    "        ax2 = fig.add_subplot(1, 2, 2)\n",
    "\n",
    "        ax1.set_xlim(-1, 1)\n",
    "        ax1.set_ylim(-1, 1)\n",
    "        ax2.set_xlim(-1, 1)\n",
    "        ax2.set_ylim(-1, 1)\n",
    "\n",
    "        ax1.scatter(X0, Y0, color=\"r\")\n",
    "        ax1.scatter(X1, Y1, color=\"b\")\n",
    "        ax1.plot((-1, 1), (L.getPointAtX(-1).y, L.getPointAtX(1).y), color=\"r\")\n",
    "\n",
    "        ax2.scatter(X2, Y2, color=\"r\")\n",
    "        ax2.scatter(X3, Y3, color=\"b\")\n",
    "        \n",
    "    return [L, W, n_iters]"
   ]
  },
  {
   "cell_type": "code",
   "execution_count": 125,
   "metadata": {
    "collapsed": false
   },
   "outputs": [
    {
     "name": "stdout",
     "output_type": "stream",
     "text": [
      "Figure on the left shows N data points with the decision boundary that separates them.\n",
      "Figure on the right shows the color of those N data points that have been classified by our logistic regression model\n"
     ]
    },
    {
     "data": {
      "image/png": "[encoded data removed]",
      "text/plain": [
       "<matplotlib.figure.Figure at 0x1063c4860>"
      ]
     },
     "metadata": {},
     "output_type": "display_data"
    }
   ],
   "source": [
    "# Example of an experiment with 100 points.\n",
    "[L, W, n_iters] = experiment(100, True)\n",
    "print('Figure on the left shows N data points with the decision boundary that separates them.')\n",
    "print('Figure on the right shows the color of those N data points that have been classified by our logistic regression model')"
   ]
  },
  {
   "cell_type": "code",
   "execution_count": 126,
   "metadata": {
    "collapsed": false
   },
   "outputs": [
    {
     "name": "stdout",
     "output_type": "stream",
     "text": [
      "Expected E_out =  0.10349230951568499\n",
      "Average number of iterations =  343.87\n"
     ]
    }
   ],
   "source": [
    "# Number of experiments.\n",
    "N_experiments = 100\n",
    "\n",
    "# Expected out-of-sample cross entropy error\n",
    "E_out = 0\n",
    "\n",
    "# Average number of iterations\n",
    "avg_iters = 0\n",
    "for _ in range(N_experiments):\n",
    "    # Number of data points to estimate E_out\n",
    "    N_train_examples = 100\n",
    "    [L, W, n_iters] = experiment(N_train_examples)\n",
    "    avg_iters += n_iters\n",
    "    \n",
    "    N_test_examples = 1000\n",
    "    test_examples = [Point.random() for _ in range(N_test_examples)]\n",
    "    X = np.array([np.insert(test_examples[_].asVector(), 0, 1) for _ in range(N_test_examples)])\n",
    "    Y = np.array([L.evaluatePoint(test_examples[_]) for _ in range(N_test_examples)])\n",
    "    E_out += LogisticRegression.getError(W, X, Y) / N_test_examples\n",
    "\n",
    "E_out /= N_experiments\n",
    "print('Expected E_out = ', E_out)\n",
    "\n",
    "avg_iters /= N_experiments\n",
    "print('Average number of iterations = ', avg_iters)"
   ]
  }
 ],
 "metadata": {
  "kernelspec": {
   "display_name": "Python 3",
   "language": "python",
   "name": "python3"
  },
  "language_info": {
   "codemirror_mode": {
    "name": "ipython",
    "version": 3
   },
   "file_extension": ".py",
   "mimetype": "text/x-python",
   "name": "python",
   "nbconvert_exporter": "python",
   "pygments_lexer": "ipython3",
   "version": "3.5.2"
  }
 },
 "nbformat": 4,
 "nbformat_minor": 0
}
