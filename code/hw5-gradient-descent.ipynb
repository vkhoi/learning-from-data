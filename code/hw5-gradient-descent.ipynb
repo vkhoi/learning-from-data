{
 "cells": [
  {
   "cell_type": "markdown",
   "metadata": {},
   "source": [
    "Consider the nonlinear error surface $E(u, v) = (ue^v -2ve^{-u})^2$. We start at the point $(u, v) = (1, 1)$ and minimize this error using gradient descent in the $uv$ space. Use learning rate $\\eta = 0.1$.\n",
    "\n",
    "The partial derivative of $E(u, v)$ with respect $u$ and $v$ is:\n",
    "\\begin{align*}\n",
    "    \\frac{\\partial E}{\\partial u} &= 2(ue^v-2ve^{-u})(e^v+2ve^{-u}) \\\\\\\\\n",
    "\t\\frac{\\partial E}{\\partial v} &= 2(ue^v-2ve^{-u})(ue^v-2e^{-u})\n",
    "\\end{align*}"
   ]
  },
  {
   "cell_type": "code",
   "execution_count": 9,
   "metadata": {
    "collapsed": true
   },
   "outputs": [],
   "source": [
    "import math\n",
    "import numpy"
   ]
  },
  {
   "cell_type": "code",
   "execution_count": 2,
   "metadata": {
    "collapsed": true
   },
   "outputs": [],
   "source": [
    "def errorFunction(u, v):\n",
    "    return (u * math.e**v - 2*v*math.e**(-u))**2"
   ]
  },
  {
   "cell_type": "code",
   "execution_count": 15,
   "metadata": {
    "collapsed": true
   },
   "outputs": [],
   "source": [
    "def partialEu(u, v):\n",
    "    return 2 * (u*math.e**v - 2*v*math.e**(-u)) * (math.e**v + 2*v*math.e**(-u))"
   ]
  },
  {
   "cell_type": "code",
   "execution_count": 16,
   "metadata": {
    "collapsed": true
   },
   "outputs": [],
   "source": [
    "def partialEv(u, v):\n",
    "    return 2 * (u*math.e**v - 2*v*math.e**(-u)) * (u*math.e**v - 2*math.e**(-u))"
   ]
  },
  {
   "cell_type": "code",
   "execution_count": 25,
   "metadata": {
    "collapsed": false
   },
   "outputs": [
    {
     "name": "stdout",
     "output_type": "stream",
     "text": [
      "E =  3.9303972318771003\n",
      "E =  1.1595097299694377\n",
      "E =  1.0074074829626989\n",
      "E =  0.09900912162725588\n",
      "E =  0.00866064536281213\n",
      "E =  0.00018175579172801659\n",
      "E =  1.2972398478441872e-06\n",
      "E =  7.291524698457968e-09\n",
      "E =  4.0099978905617125e-11\n",
      "E =  2.2016834484097367e-13\n",
      "E =  1.2086833944220747e-15\n",
      "number of iterations =  10\n",
      "u =  0.04473629039778207\n",
      "v =  0.023958714099141746\n"
     ]
    }
   ],
   "source": [
    "# Start at point (1, 1).\n",
    "u = 1\n",
    "v = 1\n",
    "\n",
    "# Learning rate.\n",
    "eta = 0.1\n",
    "\n",
    "# Number of iterations\n",
    "iterations = 0\n",
    "\n",
    "# Initial error value.\n",
    "E = errorFunction(u, v)\n",
    "print('E = ', E)\n",
    "\n",
    "# Loop until error is below 10^-14\n",
    "while E > 1e-14:\n",
    "    iterations += 1\n",
    "    du = partialEu(u, v)\n",
    "    dv = partialEv(u, v)\n",
    "    u -= eta * du\n",
    "    v -= eta * dv\n",
    "    E = errorFunction(u, v)\n",
    "    print('E = ', E)\n",
    "print('number of iterations = ', iterations)\n",
    "print('u = ', u)\n",
    "print('v = ', v)"
   ]
  },
  {
   "cell_type": "code",
   "execution_count": 26,
   "metadata": {
    "collapsed": false
   },
   "outputs": [
    {
     "name": "stdout",
     "output_type": "stream",
     "text": [
      "E =  3.9303972318771003\n",
      "E =  34.29016311234976\n",
      "E =  0.5341425913722002\n",
      "E =  0.43266082732419386\n",
      "E =  0.3650397350187307\n",
      "E =  0.31646807535966454\n",
      "E =  0.2797634230640926\n",
      "E =  0.25098631167528807\n",
      "E =  0.22778329894427704\n",
      "E =  0.20865669572438028\n",
      "E =  0.19260565861364648\n",
      "E =  0.17893474840754636\n",
      "E =  0.167145054343084\n",
      "E =  0.15686898732952287\n",
      "E =  0.14782952252409787\n",
      "E =  0.13981379199615324\n",
      "u =  6.29707589930517\n",
      "v =  -2.852306954077811\n"
     ]
    }
   ],
   "source": [
    "# Start from point (1, 1).\n",
    "u = 1\n",
    "v = 1\n",
    "\n",
    "# Learning rate.\n",
    "eta = 0.1\n",
    "\n",
    "# Initial error value.\n",
    "E = errorFunction(u, v)\n",
    "print('E = ', E)\n",
    "\n",
    "# Loop 15 full iterations.\n",
    "for _ in range(15):\n",
    "    du = partialEu(u, v)\n",
    "    u -= eta * du\n",
    "    dv = partialEv(u, v)\n",
    "    v -= eta * dv\n",
    "    E = errorFunction(u, v)\n",
    "    print('E = ', E)\n",
    "print('u = ', u)\n",
    "print('v = ', v)"
   ]
  },
  {
   "cell_type": "code",
   "execution_count": null,
   "metadata": {
    "collapsed": true
   },
   "outputs": [],
   "source": []
  }
 ],
 "metadata": {
  "kernelspec": {
   "display_name": "Python 3",
   "language": "python",
   "name": "python3"
  },
  "language_info": {
   "codemirror_mode": {
    "name": "ipython",
    "version": 3
   },
   "file_extension": ".py",
   "mimetype": "text/x-python",
   "name": "python",
   "nbconvert_exporter": "python",
   "pygments_lexer": "ipython3",
   "version": "3.5.2"
  }
 },
 "nbformat": 4,
 "nbformat_minor": 0
}
