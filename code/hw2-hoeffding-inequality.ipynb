{
 "cells": [
  {
   "cell_type": "markdown",
   "metadata": {},
   "source": [
    "# Hoeffding Inequality\n",
    "The purpose of this assignment is to have a better understanding of the Hoeffding inequality. This inequality explains the hypothesis' ability to produce a good approximation on the target function, by introducing a probabilistic bound onto the probability that the hypothesis' output differs from the target function's output by more than a threshold value. You can learn more details about Hoeffding inequality in the Learning from Data course of Caltech."
   ]
  },
  {
   "cell_type": "markdown",
   "metadata": {},
   "source": [
    "## Experiment specification\n",
    "Run a computer simulation for flipping 1,000 virtual fair coins. Flip each coin independently 10 times. Focus on 3 coins as follows: $c_1$ is the first coin flipped, $c_{rand}$ is a coin chosen randomly from the 1,000, and $c_{min}$ is the coin which had the minimum frequency of heads (pick the earlier one in case of a tie). Let $v_1$, $v_{rand}$, and $v_min$ be the fraction of heads obtained for the 3 respective coins out of the 10 tosses.\n",
    "Run the experiment 100,000 times in order to get a full distribution of $v_1$, $v_{rand}$, and $v_{min}$ (note that $c_{rand}$ and $c_{min}$ will change from run to run)."
   ]
  },
  {
   "cell_type": "code",
   "execution_count": 13,
   "metadata": {
    "collapsed": false
   },
   "outputs": [],
   "source": [
    "import random\n",
    "\n",
    "def experiment(N_coins, N_flips):\n",
    "    # initialize array for storing the number of heads of each coin\n",
    "    results = [0 for _ in range(N_coins)]\n",
    "    \n",
    "    min_heads = N_flips + 1\n",
    "    c_min = -1\n",
    "    for _ in range(N_coins):\n",
    "        # flip this coin N_flips times\n",
    "        outcome = [random.randrange(2) for x in range(N_flips)]\n",
    "        \n",
    "        # count the number of heads\n",
    "        heads = len([0 for x in range(N_flips) if outcome[x] == 0])\n",
    "        if heads < min_heads:\n",
    "            c_min = _\n",
    "            min_heads = heads\n",
    "        \n",
    "        # store the result\n",
    "        results[_] = heads / N_flips\n",
    "    \n",
    "    c1 = 0\n",
    "    c_rand = random.randrange(N_coins)\n",
    "    \n",
    "    return [results[c1], results[c_rand], results[c_min]]"
   ]
  },
  {
   "cell_type": "code",
   "execution_count": 16,
   "metadata": {
    "collapsed": false
   },
   "outputs": [],
   "source": [
    "results = []\n",
    "N_experiments = 1000\n",
    "sum_v1 = 0\n",
    "sum_vrand = 0\n",
    "sum_vmin = 0\n",
    "for _ in range(N_experiments):\n",
    "    res = experiment(1000, 10)\n",
    "    results.append(res)\n",
    "    sum_v1 += res[0]\n",
    "    sum_vrand += res[1]\n",
    "    sum_vmin += res[2]"
   ]
  },
  {
   "cell_type": "code",
   "execution_count": 15,
   "metadata": {
    "collapsed": false
   },
   "outputs": [
    {
     "name": "stdout",
     "output_type": "stream",
     "text": [
      "average value of vmin = 0.038600\n"
     ]
    }
   ],
   "source": [
    "print('average value of vmin = {:f}'.format(sum_vmin / N_experiments))"
   ]
  },
  {
   "cell_type": "markdown",
   "metadata": {
    "collapsed": true
   },
   "source": [
    "The value of vmin is around 0.0375, which is expected because the probability of getting at least 1 head after flipping 1000 coins 10 times is:"
   ]
  },
  {
   "cell_type": "code",
   "execution_count": 11,
   "metadata": {
    "collapsed": false
   },
   "outputs": [
    {
     "data": {
      "text/plain": [
       "0.37642379805672405"
      ]
     },
     "execution_count": 11,
     "metadata": {},
     "output_type": "execute_result"
    }
   ],
   "source": [
    "p = 0.5\n",
    "(1 - p**10)**1000"
   ]
  },
  {
   "cell_type": "code",
   "execution_count": 19,
   "metadata": {
    "collapsed": false
   },
   "outputs": [
    {
     "name": "stdout",
     "output_type": "stream",
     "text": [
      "average value of vmin = 0.507500\n"
     ]
    }
   ],
   "source": [
    "print('average value of vmin = {:f}'.format(sum_vrand / N_experiments))"
   ]
  },
  {
   "cell_type": "code",
   "execution_count": 20,
   "metadata": {
    "collapsed": false
   },
   "outputs": [
    {
     "name": "stdout",
     "output_type": "stream",
     "text": [
      "average value of vmin = 0.509300\n"
     ]
    }
   ],
   "source": [
    "print('average value of vmin = {:f}'.format(sum_v1 / N_experiments))"
   ]
  },
  {
   "cell_type": "markdown",
   "metadata": {},
   "source": [
    "Judging from the average value of v1, v_rand, and v_min, we conclude that only the events of picking the 1st coin and picking a random coin satisfy the Hoeffding inequality. This is because the values v1 and v_rand still approximate well the expected probability 0.5 of an unbiased coin."
   ]
  },
  {
   "cell_type": "code",
   "execution_count": null,
   "metadata": {
    "collapsed": true
   },
   "outputs": [],
   "source": []
  }
 ],
 "metadata": {
  "kernelspec": {
   "display_name": "Python 3",
   "language": "python",
   "name": "python3"
  },
  "language_info": {
   "codemirror_mode": {
    "name": "ipython",
    "version": 3
   },
   "file_extension": ".py",
   "mimetype": "text/x-python",
   "name": "python",
   "nbconvert_exporter": "python",
   "pygments_lexer": "ipython3",
   "version": "3.5.2"
  }
 },
 "nbformat": 4,
 "nbformat_minor": 0
}
