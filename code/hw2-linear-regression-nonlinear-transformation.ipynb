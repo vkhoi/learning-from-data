{
 "cells": [
  {
   "cell_type": "markdown",
   "metadata": {},
   "source": [
    "# Linear Regression with Nonlinear Transformation\n",
    "This code is implemented to answer questions 8-10 in homework 2 of the Learning from Data course at Caltech: http://work.caltech.edu/homework/hw2.pdf\n",
    "\n",
    "In these problems, we shall explore how to perform linear regression on data that are not linearly separable by modifying them using nonlinear transformation.\n",
    "\n",
    "## Problem Statement\n",
    "Given a set of N 2D points, each point is labeled with a binary value -1 or +1. Our task is to use **linear regression** to find a line that best separates these points into 2 sets, each set contains as many points with the same label as possible. This line is called the decision boundary: when we receive a new data point, we can just plug it into our system and figure out its label by observing which side of the boundary it falls into.\n",
    "\n",
    "This is a classification problem. If the data points are linearly separable, this problem can be solved using the **perceptron learning algorithm** which is implemented here: https://github.com/vkhoi/learning-from-data/blob/master/perceptron/perceptron.ipynb. However, we want to solve this problem with data that are **not linearly separable**. Even though **linear regression** is commonly used to solve the regression problem, here, we are interested in how to apply it into the classification problem."
   ]
  },
  {
   "cell_type": "code",
   "execution_count": 88,
   "metadata": {
    "collapsed": true
   },
   "outputs": [],
   "source": [
    "import math\n",
    "import matplotlib.pyplot as plt\n",
    "import numpy as np\n",
    "import random\n",
    "%matplotlib inline"
   ]
  },
  {
   "cell_type": "code",
   "execution_count": 89,
   "metadata": {
    "collapsed": true
   },
   "outputs": [],
   "source": [
    "# class Point 2D\n",
    "class Point:\n",
    "    def __init__(self, x, y):\n",
    "        self.x = x\n",
    "        self.y = y\n",
    "        \n",
    "    def asVector(self):\n",
    "        return [self.x, self.y]\n",
    "    \n",
    "    @staticmethod\n",
    "    def random():\n",
    "        return Point(random.uniform(-1, 1), random.uniform(-1, 1))"
   ]
  },
  {
   "cell_type": "code",
   "execution_count": 90,
   "metadata": {
    "collapsed": true
   },
   "outputs": [],
   "source": [
    "# implementation of linear regression for fitting a set of data points\n",
    "class LinearRegression:\n",
    "    # this method receives the data points and finds a weight vector that best fits these points\n",
    "    @staticmethod\n",
    "    def fit(X, Y):\n",
    "        N = len(X) # number of data points\n",
    "        d = len(X[0]) # size of dimension\n",
    "        \n",
    "        # initialize matrix A to store the data points\n",
    "        A = np.zeros((N, d + 1))\n",
    "        # initialize column vector b which stores the y values\n",
    "        b = np.zeros((N, 1))\n",
    "        for i in range(N):\n",
    "            A[i] = np.array([1] + X[i])\n",
    "            b[i] = Y[i]\n",
    "            \n",
    "        # approximate Ax = b\n",
    "        AT = np.transpose(A)\n",
    "        w = np.dot(np.dot(np.linalg.inv(np.dot(AT, A)), AT), b)\n",
    "\n",
    "        return w"
   ]
  },
  {
   "cell_type": "code",
   "execution_count": 91,
   "metadata": {
    "collapsed": false
   },
   "outputs": [],
   "source": [
    "# the target function produces noise 10% of them time\n",
    "def targetFunction(X, makeNoise=False):\n",
    "    res = np.sign(X[0]*X[0] + X[1]*X[1] - 0.6)\n",
    "    if makeNoise:\n",
    "        if random.randrange(10) == 0:\n",
    "            return -res\n",
    "        return res\n",
    "    return res"
   ]
  },
  {
   "cell_type": "code",
   "execution_count": 92,
   "metadata": {
    "collapsed": false
   },
   "outputs": [],
   "source": [
    "def experiment(N, plot=False):\n",
    "    # N is the number of data points to generate\n",
    "    # initialize N random points\n",
    "    # X0 and Y0 store the X and Y coordinates of points with label 1\n",
    "    # X1 and Y1 store the X and Y coordinates of points with label -1\n",
    "    training_examples = [Point.random() for _ in range(N)]\n",
    "    A = [x for x in range(N) if targetFunction(training_examples[x].asVector(), True) == 1]\n",
    "    B = [x for x in range(N) if targetFunction(training_examples[x].asVector(), True) == -1]\n",
    "    X0 = [training_examples[A[_]].x for _ in range(len(A))]\n",
    "    Y0 = [training_examples[A[_]].y for _ in range(len(A))]\n",
    "    X1 = [training_examples[B[_]].x for _ in range(len(B))]\n",
    "    Y1 = [training_examples[B[_]].y for _ in range(len(B))]\n",
    "\n",
    "    # create data to put into the linear regression class for fitting\n",
    "    X = [training_examples[A[_]].asVector() for _ in range(len(A))] + [training_examples[B[_]].asVector() for _ in range(len(B))]\n",
    "    Y = [1] * len(A) + [-1] * len(B)\n",
    "    \n",
    "    # fit the data points\n",
    "    W = LinearRegression.fit(X, Y)\n",
    "\n",
    "    if plot:\n",
    "        plt.xlim(-1, 1)\n",
    "        plt.ylim(-1, 1)\n",
    "        plt.scatter(X0, Y0, color=\"r\")\n",
    "        plt.scatter(X1, Y1, color=\"b\")\n",
    "        plt.plot()\n",
    "        \n",
    "    return [W, X, Y]"
   ]
  },
  {
   "cell_type": "code",
   "execution_count": 93,
   "metadata": {
    "collapsed": false
   },
   "outputs": [
    {
     "data": {
      "image/png": "[encoded data removed]",
      "text/plain": [
       "<matplotlib.figure.Figure at 0x10d7c09e8>"
      ]
     },
     "metadata": {},
     "output_type": "display_data"
    }
   ],
   "source": [
    "# Example run\n",
    "experiment(1000, True);"
   ]
  },
  {
   "cell_type": "code",
   "execution_count": 86,
   "metadata": {
    "collapsed": false
   },
   "outputs": [
    {
     "name": "stdout",
     "output_type": "stream",
     "text": [
      "Question 8: The average value of E_in is  0.5076659999999998\n"
     ]
    }
   ],
   "source": [
    "# Question 8\n",
    "N_experiments = 1000 # number of experiments\n",
    "N_points = 1000 # number of data points to generate in each experiment\n",
    "E_in = 0 # in-sample error\n",
    "for _ in range(N_experiments):\n",
    "    [W, X, labels] = experiment(N_points)\n",
    "    misclassified = 0\n",
    "    for i in range(len(X)):\n",
    "        v = np.dot(np.transpose(W), [1] + X[i])\n",
    "        if np.sign(v) != labels[i]:\n",
    "            misclassified += 1\n",
    "    E_in += misclassified / N_points\n",
    "E_in /= N_experiments\n",
    "print('Question 8: The average value of E_in is ', E_in)"
   ]
  },
  {
   "cell_type": "code",
   "execution_count": 138,
   "metadata": {
    "collapsed": false
   },
   "outputs": [
    {
     "name": "stdout",
     "output_type": "stream",
     "text": [
      "Question 9: The in-sample error for each hypothesis compared with our computed hypothesis is:  [0.026, 0.353, 0.364, 0.34, 0.406]\n"
     ]
    }
   ],
   "source": [
    "# We genrate a training set for both question 9 and 10\n",
    "N_points = 1000\n",
    "X = []\n",
    "Y = []\n",
    "for i in range(N_points):\n",
    "    point = Point.random()\n",
    "    y = targetFunction(point.asVector(), makeNoise=True)\n",
    "    if y == 0:\n",
    "        continue\n",
    "    x = [point.x, point.y, point.x*point.y, point.x*point.x, point.y*point.y]\n",
    "    X.append(x)\n",
    "    Y.append(y)\n",
    "\n",
    "# Question 9\n",
    "W = LinearRegression.fit(X, Y)\n",
    "\n",
    "# Hypotheses a-e in question 9\n",
    "H = [[-1, -0.05, 0.08, 0.13, 1.5, 1.5],\n",
    "     [-1, -0.05, 0.08, 0.13, 1.5, 15],\n",
    "     [-1, -0.05, 0.08, 0.13, 15, 1.5],\n",
    "     [-1, -1.5, 0.08, 0.13, 0.05, 0.05],\n",
    "     [-1, -0.05, 0.08, 1.5, 0.15, 0.15]]\n",
    "\n",
    "# Keep the error for each hypothesis\n",
    "E = [0] * 5\n",
    "for _ in range(N_points):\n",
    "    x = [1] + X[_]\n",
    "    W_val = np.sign(np.dot(np.transpose(W), x))\n",
    "    for i in range(5):\n",
    "        val = np.sign(np.dot(H[i], x))\n",
    "        if val != W_val:\n",
    "            E[i] += 1\n",
    "E = [x / N_points for x in E]\n",
    "print('Question 9: The in-sample error for each hypothesis compared with our computed hypothesis is: ', E)"
   ]
  },
  {
   "cell_type": "code",
   "execution_count": 137,
   "metadata": {
    "collapsed": false
   },
   "outputs": [
    {
     "name": "stdout",
     "output_type": "stream",
     "text": [
      "Question 10: The out-sample error of our computed hypothesis using linear regression is:  0.125\n"
     ]
    }
   ],
   "source": [
    "# Question 10\n",
    "N_points = 1000\n",
    "E_out = 0\n",
    "for _ in range(N_points):\n",
    "    point = Point.random()\n",
    "    y = targetFunction(point.asVector(), makeNoise=True)\n",
    "    if y == 0:\n",
    "        continue\n",
    "    x = [1, point.x, point.y, point.x*point.y, point.x*point.x, point.y*point.y]\n",
    "    W_val = np.sign(np.dot(np.transpose(W), x))\n",
    "    if W_val != y:\n",
    "        E_out += 1\n",
    "E_out /= N_points\n",
    "print('Question 10: The out-sample error of our computed hypothesis using linear regression is: ', E_out)"
   ]
  }
 ],
 "metadata": {
  "kernelspec": {
   "display_name": "Python 3",
   "language": "python",
   "name": "python3"
  },
  "language_info": {
   "codemirror_mode": {
    "name": "ipython",
    "version": 3
   },
   "file_extension": ".py",
   "mimetype": "text/x-python",
   "name": "python",
   "nbconvert_exporter": "python",
   "pygments_lexer": "ipython3",
   "version": "3.5.2"
  }
 },
 "nbformat": 4,
 "nbformat_minor": 0
}
