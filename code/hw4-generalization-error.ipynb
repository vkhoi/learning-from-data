{
 "cells": [
  {
   "cell_type": "markdown",
   "metadata": {},
   "source": [
    "# Generalization Error\n",
    "This code is implemented to to answer questions 1-3 in homework 4 of the Learning From Data course at Caltech: http://work.caltech.edu/homework/hw4.pdf\n",
    "\n",
    "In problem 1-3, we look at generalization bounds numerically. For $N > d_{vc}$, use the simple approximate bound $N^{d_{vc}}$ for the growth function $m_\\mathcal{H}(N)$."
   ]
  },
  {
   "cell_type": "markdown",
   "metadata": {},
   "source": [
    "## Question 1\n",
    "For an $\\mathcal{H}$ with $d_{vc} = 10$, if you want $95\\%$ confidence that your generalization error is at most $0.05$, what is the closest numerical approximation of the sample size that the VC generalization bound predicts?"
   ]
  },
  {
   "cell_type": "code",
   "execution_count": 6,
   "metadata": {
    "collapsed": true
   },
   "outputs": [],
   "source": [
    "import math\n",
    "import matplotlib.pyplot as plt\n",
    "%matplotlib inline\n",
    "# initialize the parameters\n",
    "dvc = 10\n",
    "epsilon = 0.05\n",
    "delta = 1 - 0.95"
   ]
  },
  {
   "cell_type": "code",
   "execution_count": 7,
   "metadata": {
    "collapsed": false
   },
   "outputs": [],
   "source": [
    "N = 10 # start point\n",
    "cont = True # flag to check if N has converged\n",
    "while cont:\n",
    "    cont = False\n",
    "    if N <= dvc:\n",
    "        n = int(8 / epsilon**2 * math.log(4 * 2**N / delta))\n",
    "    else:\n",
    "        n = int(8 / epsilon**2 * math.log(4 * (2*N)**dvc / delta))\n",
    "    if n != N:\n",
    "        N = n\n",
    "        cont = True"
   ]
  },
  {
   "cell_type": "code",
   "execution_count": 8,
   "metadata": {
    "collapsed": false
   },
   "outputs": [
    {
     "name": "stdout",
     "output_type": "stream",
     "text": [
      "N has converged to:  452956\n",
      "Answer: D\n"
     ]
    }
   ],
   "source": [
    "print('N has converged to: ', N)\n",
    "print('Answer: D')"
   ]
  },
  {
   "cell_type": "markdown",
   "metadata": {},
   "source": [
    "## Question 2 and 3\n",
    "There are a number of bounds on the generalization error $\\epsilon$, all holding with probability at least $1 - \\delta$. Fix $d_{vc} = 20$ and $\\delta = 0.05$ and plot these bounds as a function of $N$. "
   ]
  },
  {
   "cell_type": "code",
   "execution_count": 9,
   "metadata": {
    "collapsed": true
   },
   "outputs": [],
   "source": [
    "def originalVCBound(N, dvc, delta):\n",
    "    if N <= 10:\n",
    "        return (8 / N * math.log(4 * 2**N / delta))**0.5\n",
    "    return (8 / N * math.log(4 * (2*N)**dvc / delta))**0.5"
   ]
  },
  {
   "cell_type": "code",
   "execution_count": 10,
   "metadata": {
    "collapsed": true
   },
   "outputs": [],
   "source": [
    "def rademacherPenaltyBound(N, dvc, delta):\n",
    "    if N <= 10:\n",
    "        A = (2 * math.log(2 * N * 2**N) / N)**0.5\n",
    "    else:\n",
    "        A = (2 * math.log(2 * N * N**dvc) / N)**0.5\n",
    "    B = (2 / N * math.log(1 / delta))**0.5\n",
    "    C = 1 / N\n",
    "    return A + B + C"
   ]
  },
  {
   "cell_type": "code",
   "execution_count": 11,
   "metadata": {
    "collapsed": true
   },
   "outputs": [],
   "source": [
    "def parrondoVanDenBroek(N, dvc, delta):\n",
    "    res = 0.001\n",
    "    cont = True\n",
    "    while cont:\n",
    "        cont = False\n",
    "        if N <= 10:\n",
    "            _res = (1 / N * (2 * res + math.log(6 * 2**N / delta)))**0.5            \n",
    "        else:\n",
    "            _res = (1 / N * (2 * res + math.log(6 * (2*N)**dvc / delta)))**0.5\n",
    "        _res = round(_res, 3)\n",
    "        if res != _res:\n",
    "            res = _res\n",
    "            cont = True\n",
    "    return res"
   ]
  },
  {
   "cell_type": "code",
   "execution_count": 12,
   "metadata": {
    "collapsed": true
   },
   "outputs": [],
   "source": [
    "def devroye(N, dvc, delta):\n",
    "    res = 0.001\n",
    "    cont = True\n",
    "    while cont:\n",
    "        cont = False\n",
    "        if N <= 10:\n",
    "            _res = (1 / 2 / N * (4 * res * (1 + res) + math.log(4) + N*math.log(2) - math.log(delta)))**0.5\n",
    "        else:\n",
    "            _res = (1 / 2 / N * (4 * res * (1 + res) + math.log(4) + 2*dvc*math.log(N) - math.log(delta)))**0.5\n",
    "        _res = round(_res, 3)\n",
    "        if abs(res - _res) > 2:\n",
    "            cont = True\n",
    "        res = _res\n",
    "    return res"
   ]
  },
  {
   "cell_type": "code",
   "execution_count": 13,
   "metadata": {
    "collapsed": false
   },
   "outputs": [],
   "source": [
    "dvc = 50\n",
    "delta = 0.05\n",
    "a = [originalVCBound(N, dvc, delta) for N in range(1, 10001)]\n",
    "b = [rademacherPenaltyBound(N, dvc, delta) for N in range(1, 10001)]\n",
    "c = [parrondoVanDenBroek(N, dvc, delta) for N in range(1, 10001)]\n",
    "d = [devroye(N, dvc, delta) for N in range(1, 10001)]\n",
    "idN = [N for N in range(1, 10001)]"
   ]
  },
  {
   "cell_type": "code",
   "execution_count": 14,
   "metadata": {
    "collapsed": false
   },
   "outputs": [
    {
     "data": {
      "text/plain": [
       "[<matplotlib.lines.Line2D at 0x10eb0c470>]"
      ]
     },
     "execution_count": 14,
     "metadata": {},
     "output_type": "execute_result"
    },
    {
     "data": {
      "image/png": "[encoded data removed]",
      "text/plain": [
       "<matplotlib.figure.Figure at 0x10ba345c0>"
      ]
     },
     "metadata": {},
     "output_type": "display_data"
    }
   ],
   "source": [
    "fig = plt.figure(figsize=(8,8))\n",
    "\n",
    "# create subplot\n",
    "ax1 = fig.add_subplot(2,2,1)\n",
    "ax2 = fig.add_subplot(2,2,2)\n",
    "ax3 = fig.add_subplot(2,2,3)\n",
    "ax4 = fig.add_subplot(2,2,4)\n",
    "\n",
    "ax1.plot(idN, a)\n",
    "ax2.plot(idN, b)\n",
    "ax3.plot(idN, c)\n",
    "ax4.plot(idN, d)"
   ]
  },
  {
   "cell_type": "code",
   "execution_count": 15,
   "metadata": {
    "collapsed": false
   },
   "outputs": [
    {
     "name": "stdout",
     "output_type": "stream",
     "text": [
      "0.632174915200836\n",
      "0.3313087859616395\n",
      "0.224\n",
      "0.215\n",
      "Question 2: [d]\n"
     ]
    }
   ],
   "source": [
    "# Quesiton 2\n",
    "N = 10000\n",
    "print(a[N-1])\n",
    "print(b[N-1])\n",
    "print(c[N-1])\n",
    "print(d[N-1])\n",
    "print('Question 2: [d]')"
   ]
  },
  {
   "cell_type": "code",
   "execution_count": 16,
   "metadata": {
    "collapsed": false
   },
   "outputs": [
    {
     "name": "stdout",
     "output_type": "stream",
     "text": [
      "3.543503924078224\n",
      "2.813654929686762\n",
      "1.5\n",
      "0.886\n",
      "Question 3: [d]\n"
     ]
    }
   ],
   "source": [
    "# Question 3\n",
    "N = 5\n",
    "print(a[N-1])\n",
    "print(b[N-1])\n",
    "print(c[N-1])\n",
    "print(d[N-1])\n",
    "print('Question 3: [d]')"
   ]
  }
 ],
 "metadata": {
  "kernelspec": {
   "display_name": "Python 3",
   "language": "python",
   "name": "python3"
  },
  "language_info": {
   "codemirror_mode": {
    "name": "ipython",
    "version": 3
   },
   "file_extension": ".py",
   "mimetype": "text/x-python",
   "name": "python",
   "nbconvert_exporter": "python",
   "pygments_lexer": "ipython3",
   "version": "3.5.2"
  }
 },
 "nbformat": 4,
 "nbformat_minor": 0
}
