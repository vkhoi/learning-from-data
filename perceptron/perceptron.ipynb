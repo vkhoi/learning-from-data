{
 "cells": [
  {
   "cell_type": "markdown",
   "metadata": {},
   "source": [
    "# Introduction\n",
    "Perceptron is a simple learning model for solving the binary classification problem. Let us take a look at the binary classification problem again:\n",
    "* Input space: $ {X} = \\mathbb{R}^d $\n",
    "* Output space: $ {Y} = \\{+1, -1\\} $\n",
    "* Problem statement: Given an input vector $ {x} \\in \\mathbb{R}^d $, we need to output a corresponding binary decision (yes/no). Several examples are:\n",
    "    * Credit card approval: the bank consultant decides whether to approve a credit card application based on the client's input information.\n",
    "    * Spam messages detection: a detector needs to classify between spam and non-spam messages, based on their contents."
   ]
  },
  {
   "cell_type": "markdown",
   "metadata": {},
   "source": [
    "# Implementation"
   ]
  },
  {
   "cell_type": "markdown",
   "metadata": {},
   "source": [
    "We import the necessary modules"
   ]
  },
  {
   "cell_type": "code",
   "execution_count": 2,
   "metadata": {
    "collapsed": false
   },
   "outputs": [],
   "source": [
    "import random\n",
    "import math\n",
    "import matplotlib.pyplot as plt\n",
    "%matplotlib inline"
   ]
  },
  {
   "cell_type": "code",
   "execution_count": 103,
   "metadata": {
    "collapsed": true
   },
   "outputs": [],
   "source": [
    "def sign(val):\n",
    "    if abs(val) < 0.000000001:\n",
    "        return 0\n",
    "    if val > 0:\n",
    "        return 1\n",
    "    return -1"
   ]
  },
  {
   "cell_type": "code",
   "execution_count": 36,
   "metadata": {
    "collapsed": true
   },
   "outputs": [],
   "source": [
    "class Point:\n",
    "    def __init__(self, x, y):\n",
    "        self.x = x\n",
    "        self.y = y\n",
    "        \n",
    "    def asVector(self):\n",
    "        return [self.x, self.y]\n",
    "    \n",
    "    @staticmethod\n",
    "    def random():\n",
    "        return Point(random.uniform(-1, 1), random.uniform(-1, 1))"
   ]
  },
  {
   "cell_type": "code",
   "execution_count": 124,
   "metadata": {
    "collapsed": false
   },
   "outputs": [],
   "source": [
    "class Line:\n",
    "    def __init__(self, a, b, c):\n",
    "        # ax + by + c = 0\n",
    "        self.a = a\n",
    "        self.b = b\n",
    "        self.c = c\n",
    "    \n",
    "    def getPointAtX(self, x):\n",
    "        if self.b == 0:\n",
    "            return Point(x, -1)\n",
    "        return Point(x, (-self.a*x - self.c) / self.b)\n",
    "    \n",
    "    def evaluatePoint(self, point):\n",
    "        return sign(self.a*point.x + self.b*point.y + self.c)\n",
    "    \n",
    "    @staticmethod\n",
    "    def random():\n",
    "        p1 = Point.random()\n",
    "        p2 = Point.random()\n",
    "        \n",
    "#         p1 = Point(-1, -1)\n",
    "#         p2 = Point(1, 1)\n",
    "        \n",
    "        u = [-(p2.y - p1.y), p2.x - p1.x]\n",
    "        return Line(u[0], u[1], -u[0]*p1.x - u[1]*p1.y)"
   ]
  },
  {
   "cell_type": "code",
   "execution_count": 121,
   "metadata": {
    "collapsed": true
   },
   "outputs": [],
   "source": [
    "class Perceptron:\n",
    "    def __init__(self, dimensions):\n",
    "        self.dimensions = dimensions\n",
    "        self.weights = [0 for _ in range(dimensions + 1)]\n",
    "    \n",
    "    def evaluate(self, inputs):\n",
    "        if (len(inputs) != self.dimensions):\n",
    "            raise Exception()\n",
    "        return sum([val * weight for (val, weight) in zip([1] + inputs, self.weights)])\n",
    "    \n",
    "    def classify(self, point):\n",
    "        return sign(self.evaluate(point.asVector()))\n",
    "    \n",
    "    def learn(self, point, label):\n",
    "        self.weights = [w + label*x for (w, x) in zip(self.weights, [1] + point.asVector())]"
   ]
  },
  {
   "cell_type": "code",
   "execution_count": 137,
   "metadata": {
    "collapsed": false
   },
   "outputs": [
    {
     "data": {
      "image/png": "[encoded data removed]",
      "text/plain": [
       "<matplotlib.figure.Figure at 0x108f4d208>"
      ]
     },
     "metadata": {},
     "output_type": "display_data"
    }
   ],
   "source": [
    "N = 40 # number of training examples\n",
    "\n",
    "# initialize target function\n",
    "L = Line.random()\n",
    "\n",
    "# initialize N random points\n",
    "training_examples = [Point.random() for _ in range(N)]\n",
    "X0 = [training_examples[_].x for _ in range(N) if L.evaluatePoint(training_examples[_]) == 1]\n",
    "Y0 = [training_examples[_].y for _ in range(N) if L.evaluatePoint(training_examples[_]) == 1]\n",
    "X1 = [training_examples[_].x for _ in range(N) if L.evaluatePoint(training_examples[_]) == -1]\n",
    "Y1 = [training_examples[_].y for _ in range(N) if L.evaluatePoint(training_examples[_]) == -1]\n",
    "\n",
    "# visualize the training examples\n",
    "plt.xlim(-1, 1)\n",
    "plt.ylim(-1, 1)\n",
    "plt.scatter(X0, Y0, color=\"r\")\n",
    "plt.scatter(X1, Y1, color=\"b\")\n",
    "plt.plot((-1, 1), (L.getPointAtX(-1).y, L.getPointAtX(1).y))\n",
    "plt.show()"
   ]
  },
  {
   "cell_type": "code",
   "execution_count": 139,
   "metadata": {
    "collapsed": false
   },
   "outputs": [
    {
     "name": "stdout",
     "output_type": "stream",
     "text": [
      "[0, -2.699086092148252, 0.03623002778419693]\n"
     ]
    }
   ],
   "source": [
    "# initialize perceptron\n",
    "perceptron = Perceptron(2)\n",
    "\n",
    "misclassified = [point for point in training_examples if perceptron.classify(point) != L.evaluatePoint(point)]\n",
    "while misclassified:\n",
    "    point = random.choice(misclassified)\n",
    "    perceptron.learn(point, L.evaluatePoint(point))\n",
    "    misclassified = [point for point in training_examples if perceptron.classify(point) != L.evaluatePoint(point)]\n",
    "#     print(len(misclassified))\n",
    "\n",
    "print(perceptron.weights)\n",
    "G = Line(perceptron.weights[1], perceptron.weights[2], perceptron.weights[0])"
   ]
  },
  {
   "cell_type": "code",
   "execution_count": 140,
   "metadata": {
    "collapsed": false
   },
   "outputs": [
    {
     "data": {
      "image/png": "[encoded data removed]",
      "text/plain": [
       "<matplotlib.figure.Figure at 0x10923c898>"
      ]
     },
     "metadata": {},
     "output_type": "display_data"
    }
   ],
   "source": [
    "plt.xlim(-1, 1)\n",
    "plt.ylim(-1, 1)\n",
    "plt.scatter(X0, Y0, color=\"r\")\n",
    "plt.scatter(X1, Y1, color=\"b\")\n",
    "plt.plot((-1, 1), (L.getPointAtX(-1).y, L.getPointAtX(1).y), color=\"g\")\n",
    "plt.plot((-1, 1), (G.getPointAtX(-1).y, G.getPointAtX(1).y), color=\"b\")\n",
    "plt.show()"
   ]
  },
  {
   "cell_type": "code",
   "execution_count": 117,
   "metadata": {
    "collapsed": false
   },
   "outputs": [
    {
     "name": "stdout",
     "output_type": "stream",
     "text": [
      "[0, -0.6894222842574336, 0.6715438557937734]\n",
      "[1, 0.12913136859793473, 0.13959751884250116]\n",
      "1\n",
      "0.004719812954660382\n"
     ]
    }
   ],
   "source": [
    "print(perceptron.weights)\n",
    "print([1] + training_examples[0].asVector())\n",
    "print(perceptron.classify(training_examples[0]))\n",
    "print(sum(w*t for (w, t) in zip(perceptron.weights, [1] + training_examples[0].asVector())))"
   ]
  },
  {
   "cell_type": "code",
   "execution_count": null,
   "metadata": {
    "collapsed": true
   },
   "outputs": [],
   "source": []
  }
 ],
 "metadata": {
  "kernelspec": {
   "display_name": "Python 3",
   "language": "python",
   "name": "python3"
  },
  "language_info": {
   "codemirror_mode": {
    "name": "ipython",
    "version": 3
   },
   "file_extension": ".py",
   "mimetype": "text/x-python",
   "name": "python",
   "nbconvert_exporter": "python",
   "pygments_lexer": "ipython3",
   "version": "3.5.2"
  }
 },
 "nbformat": 4,
 "nbformat_minor": 0
}
