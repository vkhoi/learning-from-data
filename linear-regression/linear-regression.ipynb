{
 "cells": [
  {
   "cell_type": "markdown",
   "metadata": {},
   "source": [
    "# Linear Regression\n",
    "In this problem, we explore how to use **linear regression** for classification. This code is implemented to answer questions 5-10 in homework 2 of the Learning from Data course at Caltech: http://work.caltech.edu/homework/hw2.pdf\n",
    "\n",
    "## Problem Statement\n",
    "Given a set of N 2D points, each point is labeled with a binary value -1 or +1. Our task is to use **linear regression** to find a line that best separates these points into 2 sets, each set contains as many points with the same label as possible. This line is called the decision boundary: when we receive a new data point, we can just plug it into our system and figure out its label by observing which side of the boundary it falls into.\n",
    "\n",
    "This is a classification problem. If the data points are linearly separable, this problem can be solved using the **perceptron learning algorithm** which is implemented here: https://github.com/vkhoi/learning-from-data/blob/master/perceptron/perceptron.ipynb. Even though **linear regression** is commonly used to solve the regression problem, here, we are interested in how to apply it into the classification problem."
   ]
  },
  {
   "cell_type": "code",
   "execution_count": 12,
   "metadata": {
    "collapsed": true
   },
   "outputs": [],
   "source": [
    "import math\n",
    "import matplotlib.pyplot as plt\n",
    "import numpy as np\n",
    "import random\n",
    "%matplotlib inline"
   ]
  },
  {
   "cell_type": "code",
   "execution_count": 281,
   "metadata": {
    "collapsed": true
   },
   "outputs": [],
   "source": [
    "# class Point 2D\n",
    "class Point:\n",
    "    def __init__(self, x, y):\n",
    "        self.x = x\n",
    "        self.y = y\n",
    "        \n",
    "    def asVector(self):\n",
    "        return [self.x, self.y]\n",
    "    \n",
    "    @staticmethod\n",
    "    def random():\n",
    "        return Point(random.uniform(-1, 1), random.uniform(-1, 1))"
   ]
  },
  {
   "cell_type": "code",
   "execution_count": 22,
   "metadata": {
    "collapsed": true
   },
   "outputs": [],
   "source": [
    "# class Line in the 2D plane\n",
    "class Line:\n",
    "    def __init__(self, a, b, c):\n",
    "        # ax + by + c = 0\n",
    "        self.a = a\n",
    "        self.b = b\n",
    "        self.c = c\n",
    "    \n",
    "    # return the point on this line with horizontal coordinate x\n",
    "    def getPointAtX(self, x):\n",
    "        if self.b == 0:\n",
    "            return Point(x, -1)\n",
    "        return Point(x, (-self.a*x - self.c) / self.b)\n",
    "    \n",
    "    # evaluate whether a given point is on the upper or lower area of this line\n",
    "    def evaluatePoint(self, point):\n",
    "        return np.sign(self.a*point.x + self.b*point.y + self.c)\n",
    "    \n",
    "    # generate a random line equation (equivalent to generating a random target function in our example)\n",
    "    @staticmethod\n",
    "    def random():\n",
    "        # generate two random points\n",
    "        p1 = Point.random()\n",
    "        p2 = Point.random()\n",
    "        \n",
    "        # compute the perpendicular vector of this line\n",
    "        u = [-(p2.y - p1.y), p2.x - p1.x]\n",
    "        return Line(u[0], u[1], -u[0]*p1.x - u[1]*p1.y)"
   ]
  },
  {
   "cell_type": "code",
   "execution_count": 197,
   "metadata": {
    "collapsed": false
   },
   "outputs": [],
   "source": [
    "# implementation of linear regression for fitting a set of data points\n",
    "class LinearRegression:\n",
    "    # this method receives the data points and finds a weight vector that best fits these points\n",
    "    @staticmethod\n",
    "    def fit(X, Y):\n",
    "        N = len(X) # number of data points\n",
    "        d = len(X[0]) # size of dimension\n",
    "        \n",
    "        # initialize matrix A to store the data points\n",
    "        A = np.zeros((N, d + 1))\n",
    "        # initialize column vector b which stores the y values\n",
    "        b = np.zeros((N, 1))\n",
    "        for i in range(N):\n",
    "            A[i] = np.array([1] + X[i])\n",
    "            b[i] = Y[i]\n",
    "            \n",
    "        # approximate Ax = b\n",
    "        AT = np.transpose(A)\n",
    "        w = np.dot(np.dot(np.linalg.inv(np.dot(AT, A)), AT), b)\n",
    "\n",
    "        return w"
   ]
  },
  {
   "cell_type": "code",
   "execution_count": 282,
   "metadata": {
    "collapsed": false
   },
   "outputs": [],
   "source": [
    "# perform experiments for answering question 6 and 7\n",
    "def experimentQ67(N, plot=False):\n",
    "    # N is the number of data points to generate\n",
    "    \n",
    "    # initialize a random line to separate the plane into 2 parts: one for blue points, one for red points\n",
    "    L = Line.random()\n",
    "\n",
    "    # initialize N random points\n",
    "    # X0 and Y0 store the X and Y coordinates of points with label 1\n",
    "    # X1 and Y1 store the X and Y coordinates of points with label -1\n",
    "    training_examples = [Point.random() for _ in range(N)]\n",
    "    X0 = [training_examples[_].x for _ in range(N) if L.evaluatePoint(training_examples[_]) == 1]\n",
    "    Y0 = [training_examples[_].y for _ in range(N) if L.evaluatePoint(training_examples[_]) == 1]\n",
    "    X1 = [training_examples[_].x for _ in range(N) if L.evaluatePoint(training_examples[_]) == -1]\n",
    "    Y1 = [training_examples[_].y for _ in range(N) if L.evaluatePoint(training_examples[_]) == -1]\n",
    "\n",
    "    # create data to put into the linear regression class for fitting\n",
    "    X = [training_examples[_].asVector() for _ in range(N)]\n",
    "    Y = [L.evaluatePoint(training_examples[_]) for _ in range(N)]\n",
    "    \n",
    "    # fit the data points\n",
    "    W = LinearRegression.fit(X, Y)\n",
    "\n",
    "    # create the line equation using the computed weights\n",
    "    G = Line(W[1][0], W[2][0], W[0][0])\n",
    "\n",
    "    if plot:\n",
    "        print('Figure on the left shows the data points with the target function')\n",
    "        print('Figure on the right shows the data points with the best fit line')\n",
    "        fig = plt.figure(figsize=(16, 5))\n",
    "        ax1 = fig.add_subplot(1, 2, 1)\n",
    "        ax2 = fig.add_subplot(1, 2, 2)\n",
    "\n",
    "        ax1.set_xlim(-1, 1)\n",
    "        ax1.set_ylim(-1, 1)\n",
    "        ax2.set_xlim(-1, 1)\n",
    "        ax2.set_ylim(-1, 1)\n",
    "\n",
    "        ax1.scatter(X0, Y0, color=\"r\")\n",
    "        ax1.scatter(X1, Y1, color=\"b\")\n",
    "        ax1.plot((-1, 1), (L.getPointAtX(-1).y, L.getPointAtX(1).y), color=\"r\")\n",
    "\n",
    "        ax2.scatter(X0, Y0, color=\"r\")\n",
    "        ax2.scatter(X1, Y1, color=\"b\")\n",
    "        ax2.plot((-1, 1), (G.getPointAtX(-1).y, G.getPointAtX(1).y), color=\"b\")\n",
    "        \n",
    "    return [L, G, training_examples]"
   ]
  },
  {
   "cell_type": "code",
   "execution_count": 291,
   "metadata": {
    "collapsed": false
   },
   "outputs": [
    {
     "name": "stdout",
     "output_type": "stream",
     "text": [
      "Figure on the left shows the data points with the target function\n",
      "Figure on the right shows the data points with the best fit line\n"
     ]
    },
    {
     "data": {
      "image/png": "[encoded data removed]",
      "text/plain": [
       "<matplotlib.figure.Figure at 0x10e56ee80>"
      ]
     },
     "metadata": {},
     "output_type": "display_data"
    }
   ],
   "source": [
    "# Example run\n",
    "[L, G, training_examples] = experimentQ67(100, True)"
   ]
  },
  {
   "cell_type": "markdown",
   "metadata": {},
   "source": [
    "We can see that **linear regression** is also able to find a good decision boundary. Thus, it can be used as an initial step to find a good weight vector before applying the **perceptron learning algorithm**."
   ]
  },
  {
   "cell_type": "code",
   "execution_count": 288,
   "metadata": {
    "collapsed": false
   },
   "outputs": [
    {
     "name": "stdout",
     "output_type": "stream",
     "text": [
      "Question 5: The average value of E_in is  0.03932000000000004\n"
     ]
    }
   ],
   "source": [
    "# Question 5\n",
    "N_experiments = 1000 # number of experiments\n",
    "N_points = 100 # number of data points to generate in each experiment\n",
    "E_in = 0 # in-sample error\n",
    "for _ in range(N_experiments):\n",
    "    [L, G, training_examples] = experimentQ67(N_points)\n",
    "    misclassified = [point for point in training_examples if L.evaluatePoint(point) != G.evaluatePoint(point)]\n",
    "    E_in += len(misclassified) / N_points\n",
    "E_in /= N_experiments\n",
    "print('Question 5: The average value of E_in is ', E_in)"
   ]
  },
  {
   "cell_type": "code",
   "execution_count": 290,
   "metadata": {
    "collapsed": false
   },
   "outputs": [
    {
     "name": "stdout",
     "output_type": "stream",
     "text": [
      "Question 6: The average value of E_out is  0.012725999999999951\n"
     ]
    }
   ],
   "source": [
    "# Question 6\n",
    "N_experiments = 1000 # number of experiments\n",
    "N_points = 1000 # number of data points to generate in each experiment\n",
    "E_out = 0 # out-sample error\n",
    "for _ in range(N_experiments):\n",
    "    training_examples = [Point.random() for _ in range(N_points)]\n",
    "    misclassified = [point for point in training_examples if L.evaluatePoint(point) != G.evaluatePoint(point)]\n",
    "    E_out += len(misclassified) / N_points\n",
    "E_out /= N_experiments\n",
    "print('Question 6: The average value of E_out is ', E_out)"
   ]
  },
  {
   "cell_type": "markdown",
   "metadata": {},
   "source": [
    "From the computed values of E_in and E_out, we can see that our linear regression hypothesis approximates well the target function."
   ]
  },
  {
   "cell_type": "code",
   "execution_count": null,
   "metadata": {
    "collapsed": true
   },
   "outputs": [],
   "source": []
  }
 ],
 "metadata": {
  "kernelspec": {
   "display_name": "Python 3",
   "language": "python",
   "name": "python3"
  },
  "language_info": {
   "codemirror_mode": {
    "name": "ipython",
    "version": 3
   },
   "file_extension": ".py",
   "mimetype": "text/x-python",
   "name": "python",
   "nbconvert_exporter": "python",
   "pygments_lexer": "ipython3",
   "version": "3.5.2"
  }
 },
 "nbformat": 4,
 "nbformat_minor": 0
}
